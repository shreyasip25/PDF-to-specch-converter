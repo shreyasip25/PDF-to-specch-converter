{
 "cells": [
  {
   "cell_type": "code",
   "execution_count": 1,
   "metadata": {},
   "outputs": [],
   "source": [
    "#Importing Libraries\n",
    "#Importing Google Text to Speech library\n",
    "from gtts import gTTS\n",
    "\n"
   ]
  },
  {
   "cell_type": "code",
   "execution_count": 2,
   "metadata": {},
   "outputs": [],
   "source": [
    "#Importing PDF reader PyPDF2\n",
    "import PyPDF2"
   ]
  },
  {
   "cell_type": "code",
   "execution_count": 12,
   "metadata": {},
   "outputs": [],
   "source": [
    "#Open file Path\n",
    "pdf_File = open('C:/Users/HP/Documents/Abstract .pdf', 'rb') "
   ]
  },
  {
   "cell_type": "code",
   "execution_count": 13,
   "metadata": {},
   "outputs": [],
   "source": [
    "#Create PDF Reader Object\n",
    "pdf_Reader = PyPDF2.PdfFileReader(pdf_File)\n",
    "count = pdf_Reader.numPages # counts number of pages in pdf\n",
    "textList = []"
   ]
  },
  {
   "cell_type": "code",
   "execution_count": 14,
   "metadata": {},
   "outputs": [],
   "source": [
    "#Extracting text data from each page of the pdf file\n",
    "for i in range(count):\n",
    "   try:\n",
    "    page = pdf_Reader.getPage(i)    \n",
    "    textList.append(page.extractText())\n",
    "   except:\n",
    "       pass"
   ]
  },
  {
   "cell_type": "code",
   "execution_count": 15,
   "metadata": {},
   "outputs": [],
   "source": [
    "#Converting multiline text to single line text\n",
    "textString = \" \".join(textList)\n"
   ]
  },
  {
   "cell_type": "code",
   "execution_count": 16,
   "metadata": {},
   "outputs": [
    {
     "name": "stdout",
     "output_type": "stream",
     "text": [
      "Abstract \n",
      "Change is an essential characteristic of software development, as software systems must \n",
      " \n",
      "respond to evolving requirements, platforms, and other environmental pressures. In this paper, we \n",
      " \n",
      "discuss the concept of software evolution from several perspectives. W\n",
      "e examine how it relates to \n",
      " \n",
      "and differs from software maintenance. We discuss insights about software evolution arising from \n",
      " \n",
      "\n",
      "compare software evolution to other k\n",
      "inds of evolution, from science and social sciences, and we \n",
      "examine the forces that shape change. Finally, we discuss the changing nature of software in general \n",
      "as it relates to evolution, and we propose open challenges and future\n",
      " \n",
      "\n"
     ]
    }
   ],
   "source": [
    "print(textString)"
   ]
  },
  {
   "cell_type": "code",
   "execution_count": 17,
   "metadata": {},
   "outputs": [],
   "source": [
    "#Set language to english (en)\n",
    "language = 'en'"
   ]
  },
  {
   "cell_type": "code",
   "execution_count": 18,
   "metadata": {},
   "outputs": [],
   "source": [
    "#Call GTTS\n",
    "myAudio = gTTS(text=textString, lang=language, slow=False)"
   ]
  },
  {
   "cell_type": "code",
   "execution_count": 19,
   "metadata": {},
   "outputs": [],
   "source": [
    "#Save as mp3 file\n",
    "myAudio.save(\"Audio.mp3\")"
   ]
  },
  {
   "cell_type": "code",
   "execution_count": null,
   "metadata": {},
   "outputs": [],
   "source": []
  }
 ],
 "metadata": {
  "kernelspec": {
   "display_name": "Python 3",
   "language": "python",
   "name": "python3"
  },
  "language_info": {
   "codemirror_mode": {
    "name": "ipython",
    "version": 3
   },
   "file_extension": ".py",
   "mimetype": "text/x-python",
   "name": "python",
   "nbconvert_exporter": "python",
   "pygments_lexer": "ipython3",
   "version": "3.6.8"
  }
 },
 "nbformat": 4,
 "nbformat_minor": 2
}
